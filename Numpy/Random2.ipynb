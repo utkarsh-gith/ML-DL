{
 "cells": [
  {
   "cell_type": "code",
   "execution_count": 1,
   "metadata": {},
   "outputs": [],
   "source": [
    "from numpy import random"
   ]
  },
  {
   "attachments": {},
   "cell_type": "markdown",
   "metadata": {},
   "source": [
    "Random Distribution\n",
    "\n",
    "A random distribution is a set of random numbers that follow a certain probability density function.\n",
    "\n",
    "Probability Density Function: A function that describes a continuous probability. i.e. probability of all values in an array.\n",
    "\n",
    "We can generate random numbers based on defined probabilities using the choice() method of the random module.\n",
    "\n",
    "The choice() method allows us to specify the probability for each value.\n",
    "\n",
    "The probability is set by a number between 0 and 1, where 0 means that the value will never occur and 1 means that the value will always occur.\n",
    "\n",
    "The sum of all probability numbers should be 1."
   ]
  },
  {
   "cell_type": "code",
   "execution_count": 3,
   "metadata": {},
   "outputs": [
    {
     "name": "stdout",
     "output_type": "stream",
     "text": [
      "[5 5 7 5 7 7 7 5 7 3 7 7 3 7 5 7 7 5 7 7 7 7 5 3 7 5 7 5 7 7 7 5 7 3 5 7 3\n",
      " 7 7 5 7 5 5 7 5 5 5 7 7 7 7 7 7 5 5 7 7 7 5 5 7 5 7 7 7 5 5 7 7 7 5 7 3 7\n",
      " 3 5 5 5 7 5 7 5 3 5 5 3 7 7 7 7 7 5 3 7 7 7 7 7 5 7]\n"
     ]
    }
   ],
   "source": [
    "x = random.choice([3, 5, 7, 9], p=[0.1, 0.3, 0.6, 0.0], size=(100))\n",
    "print(x)"
   ]
  },
  {
   "cell_type": "code",
   "execution_count": 4,
   "metadata": {},
   "outputs": [
    {
     "name": "stdout",
     "output_type": "stream",
     "text": [
      "[[5 7 7 5 7]\n",
      " [5 7 7 7 5]\n",
      " [7 5 7 7 5]]\n"
     ]
    }
   ],
   "source": [
    "x = random.choice([3, 5, 7, 9], p=[0.1, 0.3, 0.6, 0.0], size=(3, 5))\n",
    "print(x)"
   ]
  }
 ],
 "metadata": {
  "kernelspec": {
   "display_name": "Python 3",
   "language": "python",
   "name": "python3"
  },
  "language_info": {
   "codemirror_mode": {
    "name": "ipython",
    "version": 3
   },
   "file_extension": ".py",
   "mimetype": "text/x-python",
   "name": "python",
   "nbconvert_exporter": "python",
   "pygments_lexer": "ipython3",
   "version": "3.11.9"
  },
  "orig_nbformat": 4
 },
 "nbformat": 4,
 "nbformat_minor": 2
}
