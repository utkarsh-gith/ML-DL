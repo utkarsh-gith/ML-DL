{
 "cells": [
  {
   "attachments": {},
   "cell_type": "markdown",
   "metadata": {},
   "source": [
    "NumPy offers the random module to work with random numbers."
   ]
  },
  {
   "cell_type": "code",
   "execution_count": 1,
   "metadata": {},
   "outputs": [],
   "source": [
    "from numpy import random"
   ]
  },
  {
   "cell_type": "code",
   "execution_count": 4,
   "metadata": {},
   "outputs": [
    {
     "name": "stdout",
     "output_type": "stream",
     "text": [
      "14\n"
     ]
    }
   ],
   "source": [
    "x = random.randint(100)\n",
    "print(x)"
   ]
  },
  {
   "cell_type": "code",
   "execution_count": null,
   "metadata": {},
   "outputs": [],
   "source": []
  },
  {
   "cell_type": "code",
   "execution_count": 5,
   "metadata": {},
   "outputs": [
    {
     "name": "stdout",
     "output_type": "stream",
     "text": [
      "0.42578681740919655\n"
     ]
    }
   ],
   "source": [
    "# The random module's rand() method returns a random float between 0 and 1.\n",
    "x = random.rand()\n",
    "print(x)"
   ]
  },
  {
   "cell_type": "code",
   "execution_count": 6,
   "metadata": {},
   "outputs": [
    {
     "name": "stdout",
     "output_type": "stream",
     "text": [
      "[33 18 40 99 88]\n"
     ]
    }
   ],
   "source": [
    "# the randint() method takes a size parameter where you can specify the shape of an array.\n",
    "x=random.randint(100, size=(5))\n",
    "print(x)"
   ]
  },
  {
   "cell_type": "code",
   "execution_count": 7,
   "metadata": {},
   "outputs": [
    {
     "name": "stdout",
     "output_type": "stream",
     "text": [
      "[[ 8 69 31 91 35]\n",
      " [27 45 30 62 13]\n",
      " [85  3 39 36 50]]\n"
     ]
    }
   ],
   "source": [
    "x = random.randint(100, size=(3, 5))\n",
    "print(x)"
   ]
  },
  {
   "cell_type": "code",
   "execution_count": 8,
   "metadata": {},
   "outputs": [
    {
     "name": "stdout",
     "output_type": "stream",
     "text": [
      "[[[ 44 986 745 852 119]\n",
      "  [330 461 837 183 119]\n",
      "  [799 825 973  30 593]\n",
      "  [141 141 555 400  72]]\n",
      "\n",
      " [[927 320 885 784  26]\n",
      "  [  9 534 829 845 570]\n",
      "  [131 248 672 106 830]\n",
      "  [564 453  53 244  43]]\n",
      "\n",
      " [[256  75 630 284  17]\n",
      "  [626 231  48 499 142]\n",
      "  [929 465 404 944  51]\n",
      "  [327 180 950 800 703]]]\n"
     ]
    }
   ],
   "source": [
    "x = random.randint(999, size = (3,4,5))\n",
    "print(x)"
   ]
  },
  {
   "cell_type": "code",
   "execution_count": 9,
   "metadata": {},
   "outputs": [
    {
     "name": "stdout",
     "output_type": "stream",
     "text": [
      "[0.91906563 0.28252965 0.62481876 0.70434985 0.04929793]\n"
     ]
    }
   ],
   "source": [
    "# The rand() method also allows you to specify the shape of the array.\n",
    "x = random.rand(5)\n",
    "print(x)"
   ]
  },
  {
   "cell_type": "code",
   "execution_count": 10,
   "metadata": {},
   "outputs": [
    {
     "name": "stdout",
     "output_type": "stream",
     "text": [
      "[[[[[0.81554558]\n",
      "    [0.81693445]]\n",
      "\n",
      "   [[0.7868922 ]\n",
      "    [0.5421143 ]]\n",
      "\n",
      "   [[0.86056876]\n",
      "    [0.68556029]]]\n",
      "\n",
      "\n",
      "  [[[0.01943632]\n",
      "    [0.25732227]]\n",
      "\n",
      "   [[0.24335587]\n",
      "    [0.29652722]]\n",
      "\n",
      "   [[0.65360859]\n",
      "    [0.62190701]]]\n",
      "\n",
      "\n",
      "  [[[0.73559262]\n",
      "    [0.86901067]]\n",
      "\n",
      "   [[0.70806024]\n",
      "    [0.57545613]]\n",
      "\n",
      "   [[0.46090538]\n",
      "    [0.35039102]]]\n",
      "\n",
      "\n",
      "  [[[0.2287221 ]\n",
      "    [0.63564849]]\n",
      "\n",
      "   [[0.55226644]\n",
      "    [0.35262735]]\n",
      "\n",
      "   [[0.72526375]\n",
      "    [0.42716583]]]]\n",
      "\n",
      "\n",
      "\n",
      " [[[[0.00334075]\n",
      "    [0.25004372]]\n",
      "\n",
      "   [[0.6179677 ]\n",
      "    [0.63642626]]\n",
      "\n",
      "   [[0.84653333]\n",
      "    [0.64452575]]]\n",
      "\n",
      "\n",
      "  [[[0.51783084]\n",
      "    [0.25719449]]\n",
      "\n",
      "   [[0.12007137]\n",
      "    [0.54453449]]\n",
      "\n",
      "   [[0.89370687]\n",
      "    [0.3168137 ]]]\n",
      "\n",
      "\n",
      "  [[[0.74769887]\n",
      "    [0.93434933]]\n",
      "\n",
      "   [[0.46346681]\n",
      "    [0.21177678]]\n",
      "\n",
      "   [[0.58149852]\n",
      "    [0.9234341 ]]]\n",
      "\n",
      "\n",
      "  [[[0.22863185]\n",
      "    [0.98059368]]\n",
      "\n",
      "   [[0.55036549]\n",
      "    [0.95143497]]\n",
      "\n",
      "   [[0.12418842]\n",
      "    [0.72489077]]]]\n",
      "\n",
      "\n",
      "\n",
      " [[[[0.88931851]\n",
      "    [0.4790886 ]]\n",
      "\n",
      "   [[0.15400746]\n",
      "    [0.36753525]]\n",
      "\n",
      "   [[0.27196042]\n",
      "    [0.33114158]]]\n",
      "\n",
      "\n",
      "  [[[0.32987667]\n",
      "    [0.96479283]]\n",
      "\n",
      "   [[0.98718651]\n",
      "    [0.21517765]]\n",
      "\n",
      "   [[0.23771517]\n",
      "    [0.38291662]]]\n",
      "\n",
      "\n",
      "  [[[0.5279764 ]\n",
      "    [0.60796068]]\n",
      "\n",
      "   [[0.27074147]\n",
      "    [0.29911055]]\n",
      "\n",
      "   [[0.20715616]\n",
      "    [0.47940585]]]\n",
      "\n",
      "\n",
      "  [[[0.93718816]\n",
      "    [0.58644168]]\n",
      "\n",
      "   [[0.52966459]\n",
      "    [0.12109966]]\n",
      "\n",
      "   [[0.05747209]\n",
      "    [0.01970946]]]]\n",
      "\n",
      "\n",
      "\n",
      " [[[[0.7840344 ]\n",
      "    [0.85470363]]\n",
      "\n",
      "   [[0.64572316]\n",
      "    [0.92938135]]\n",
      "\n",
      "   [[0.41156331]\n",
      "    [0.16873923]]]\n",
      "\n",
      "\n",
      "  [[[0.36129166]\n",
      "    [0.36508175]]\n",
      "\n",
      "   [[0.63255984]\n",
      "    [0.22797051]]\n",
      "\n",
      "   [[0.57501658]\n",
      "    [0.7692491 ]]]\n",
      "\n",
      "\n",
      "  [[[0.87283683]\n",
      "    [0.15042184]]\n",
      "\n",
      "   [[0.89872486]\n",
      "    [0.33804842]]\n",
      "\n",
      "   [[0.18904877]\n",
      "    [0.985992  ]]]\n",
      "\n",
      "\n",
      "  [[[0.11773689]\n",
      "    [0.48745265]]\n",
      "\n",
      "   [[0.82704872]\n",
      "    [0.50865336]]\n",
      "\n",
      "   [[0.43290543]\n",
      "    [0.83680172]]]]\n",
      "\n",
      "\n",
      "\n",
      " [[[[0.38295927]\n",
      "    [0.10320206]]\n",
      "\n",
      "   [[0.39290471]\n",
      "    [0.93744647]]\n",
      "\n",
      "   [[0.15208657]\n",
      "    [0.46887786]]]\n",
      "\n",
      "\n",
      "  [[[0.74267371]\n",
      "    [0.75861048]]\n",
      "\n",
      "   [[0.5597875 ]\n",
      "    [0.09795959]]\n",
      "\n",
      "   [[0.17285057]\n",
      "    [0.49357385]]]\n",
      "\n",
      "\n",
      "  [[[0.02330306]\n",
      "    [0.68247574]]\n",
      "\n",
      "   [[0.58809561]\n",
      "    [0.36247909]]\n",
      "\n",
      "   [[0.54083234]\n",
      "    [0.46675081]]]\n",
      "\n",
      "\n",
      "  [[[0.81454797]\n",
      "    [0.5964309 ]]\n",
      "\n",
      "   [[0.15673435]\n",
      "    [0.90070759]]\n",
      "\n",
      "   [[0.13686124]\n",
      "    [0.68708773]]]]]\n"
     ]
    }
   ],
   "source": [
    "x = random.rand(5,4,3,2,1)\n",
    "print(x)"
   ]
  },
  {
   "attachments": {},
   "cell_type": "markdown",
   "metadata": {},
   "source": [
    "The choice() method allows you to generate a random value based on an array of values.\n",
    "\n",
    "The choice() method takes an array as a parameter and randomly returns one of the values.\n",
    "\n",
    "The choice() method also allows you to return an array of values.\n",
    "\n",
    "Add a size parameter to specify the shape of the array."
   ]
  },
  {
   "cell_type": "code",
   "execution_count": 11,
   "metadata": {},
   "outputs": [
    {
     "name": "stdout",
     "output_type": "stream",
     "text": [
      "9\n"
     ]
    }
   ],
   "source": [
    "x = random.choice([3, 5, 7, 9])\n",
    "\n",
    "print(x)"
   ]
  },
  {
   "cell_type": "code",
   "execution_count": 12,
   "metadata": {},
   "outputs": [
    {
     "name": "stdout",
     "output_type": "stream",
     "text": [
      "[[7 7 7 9 3]\n",
      " [5 5 5 9 3]\n",
      " [3 5 5 7 9]]\n"
     ]
    }
   ],
   "source": [
    "x = random.choice([3, 5, 7, 9], size=(3, 5))\n",
    "\n",
    "print(x)"
   ]
  }
 ],
 "metadata": {
  "kernelspec": {
   "display_name": "Python 3",
   "language": "python",
   "name": "python3"
  },
  "language_info": {
   "codemirror_mode": {
    "name": "ipython",
    "version": 3
   },
   "file_extension": ".py",
   "mimetype": "text/x-python",
   "name": "python",
   "nbconvert_exporter": "python",
   "pygments_lexer": "ipython3",
   "version": "3.11.9"
  },
  "orig_nbformat": 4
 },
 "nbformat": 4,
 "nbformat_minor": 2
}
