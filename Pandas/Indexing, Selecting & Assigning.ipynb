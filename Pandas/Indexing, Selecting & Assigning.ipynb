{
 "cells": [
  {
   "cell_type": "code",
   "execution_count": 2,
   "id": "2f96b725-4d13-4e03-a877-53d8fb26aa55",
   "metadata": {},
   "outputs": [],
   "source": [
    "import pandas as pd"
   ]
  },
  {
   "cell_type": "markdown",
   "id": "444414bd-b837-4d92-b1c3-c45d747099bf",
   "metadata": {},
   "source": [
    "Native accessors\n",
    "\n",
    "Native Python objects provide good ways of indexing data. Pandas carries all of these over, which helps make it easy to start with"
   ]
  },
  {
   "cell_type": "code",
   "execution_count": 3,
   "id": "861b86a0-4ca2-4f30-b181-2f1f8ca5cf06",
   "metadata": {},
   "outputs": [],
   "source": [
    "employment_data = pd.read_csv('business-employment-data.csv')"
   ]
  },
  {
   "cell_type": "markdown",
   "id": "3dad4659-6e2d-4e64-a7e4-0b252213bde1",
   "metadata": {},
   "source": [
    "In Python, we can access the property of an object by accessing it as an attribute. Columns in a pandas DataFrame work in much the same way."
   ]
  },
  {
   "cell_type": "code",
   "execution_count": 4,
   "id": "de83fa70-8d42-41ad-a350-b4e3219cdbe1",
   "metadata": {},
   "outputs": [
    {
     "data": {
      "text/plain": [
       "0        2011.06\n",
       "1        2011.09\n",
       "2        2011.12\n",
       "3        2012.03\n",
       "4        2012.06\n",
       "          ...   \n",
       "24119    2017.06\n",
       "24120    2017.09\n",
       "24121    2017.12\n",
       "24122    2018.03\n",
       "24123    2018.06\n",
       "Name: Period, Length: 24124, dtype: float64"
      ]
     },
     "execution_count": 4,
     "metadata": {},
     "output_type": "execute_result"
    }
   ],
   "source": [
    "employment_data.Period"
   ]
  },
  {
   "cell_type": "markdown",
   "id": "67e8bae7-4073-446d-93fa-0bed74670fc2",
   "metadata": {},
   "source": [
    "If we have a Python dictionary, we can access its values using the indexing ([]) operator. We can do the same with columns in a DataFrame:"
   ]
  },
  {
   "cell_type": "code",
   "execution_count": 6,
   "id": "424b7082-c12d-41b5-b27c-a7f482bff65d",
   "metadata": {},
   "outputs": [
    {
     "data": {
      "text/plain": [
       "0        2011.06\n",
       "1        2011.09\n",
       "2        2011.12\n",
       "3        2012.03\n",
       "4        2012.06\n",
       "          ...   \n",
       "24119    2017.06\n",
       "24120    2017.09\n",
       "24121    2017.12\n",
       "24122    2018.03\n",
       "24123    2018.06\n",
       "Name: Period, Length: 24124, dtype: float64"
      ]
     },
     "execution_count": 6,
     "metadata": {},
     "output_type": "execute_result"
    }
   ],
   "source": [
    "employment_data['Period']"
   ]
  },
  {
   "cell_type": "markdown",
   "id": "84940cd9-e680-4eba-8ecc-c2fdfceb9990",
   "metadata": {},
   "source": [
    "To drill down to a single specific value, we need only use the indexing operator [] once more"
   ]
  },
  {
   "cell_type": "code",
   "execution_count": 7,
   "id": "7ae5442c-528b-4583-9faf-4b9dd06956f4",
   "metadata": {},
   "outputs": [
    {
     "data": {
      "text/plain": [
       "np.float64(2011.12)"
      ]
     },
     "execution_count": 7,
     "metadata": {},
     "output_type": "execute_result"
    }
   ],
   "source": [
    "employment_data['Period'][2]"
   ]
  },
  {
   "cell_type": "markdown",
   "id": "b50f4cc8-245c-46d2-b0ac-2416308b1654",
   "metadata": {},
   "source": [
    "Indexing in pandas\n",
    "\n",
    "The indexing operator and attribute selection are nice because they work just like they do in the rest of the Python ecosystem. As a novice, this makes them easy to pick up and use. However, pandas has its own accessor operators, loc and iloc"
   ]
  },
  {
   "cell_type": "markdown",
   "id": "0584d133-6132-48c6-9845-b23726710a3b",
   "metadata": {},
   "source": [
    "Index-based selection\n",
    "\n",
    "Pandas indexing works in one of two paradigms. The first is index-based selection: selecting data based on its numerical position in the data. iloc follows this paradigm."
   ]
  },
  {
   "cell_type": "code",
   "execution_count": 9,
   "id": "beb39989-2ada-413a-80b3-e61626602f2b",
   "metadata": {},
   "outputs": [
    {
     "data": {
      "text/plain": [
       "Series_reference                          BDCQ.SEA1AA\n",
       "Period                                        2011.06\n",
       "Data_value                                    80078.0\n",
       "Suppressed                                        NaN\n",
       "STATUS                                              F\n",
       "UNITS                                          Number\n",
       "Magnitude                                           0\n",
       "Subject                Business Data Collection - BDC\n",
       "Group                 Industry by employment variable\n",
       "Series_title_1                            Filled jobs\n",
       "Series_title_2      Agriculture, Forestry and Fishing\n",
       "Series_title_3                                 Actual\n",
       "Series_title_4                                    NaN\n",
       "Series_title_5                                    NaN\n",
       "Name: 0, dtype: object"
      ]
     },
     "execution_count": 9,
     "metadata": {},
     "output_type": "execute_result"
    }
   ],
   "source": [
    "#To select the first row of data in a DataFrame\n",
    "employment_data.iloc[0]"
   ]
  },
  {
   "cell_type": "code",
   "execution_count": 10,
   "id": "e0b920f6-22bb-4b43-a08f-bbdae11b43d4",
   "metadata": {},
   "outputs": [
    {
     "data": {
      "text/plain": [
       "0          BDCQ.SEA1AA\n",
       "1          BDCQ.SEA1AA\n",
       "2          BDCQ.SEA1AA\n",
       "3          BDCQ.SEA1AA\n",
       "4          BDCQ.SEA1AA\n",
       "             ...      \n",
       "24119    BDCQ.SEE3999A\n",
       "24120    BDCQ.SEE3999A\n",
       "24121    BDCQ.SEE3999A\n",
       "24122    BDCQ.SEE3999A\n",
       "24123    BDCQ.SEE3999A\n",
       "Name: Series_reference, Length: 24124, dtype: object"
      ]
     },
     "execution_count": 10,
     "metadata": {},
     "output_type": "execute_result"
    }
   ],
   "source": [
    "#To get a column with iloc, we can do the following\n",
    "employment_data.iloc[:,0]"
   ]
  },
  {
   "cell_type": "markdown",
   "id": "b9e33f8e-50ef-44ef-b78c-7b3961eadd79",
   "metadata": {},
   "source": [
    "Label-based selection\n",
    "\n",
    "The second paradigm for attribute selection is the one followed by the loc operator: label-based selection. In this paradigm, it's the data index value, not its position, which matters."
   ]
  },
  {
   "cell_type": "code",
   "execution_count": 18,
   "id": "6d27873f-7973-4cac-8307-82d63a8d4307",
   "metadata": {},
   "outputs": [
    {
     "data": {
      "text/plain": [
       "'Business Data Collection - BDC'"
      ]
     },
     "execution_count": 18,
     "metadata": {},
     "output_type": "execute_result"
    }
   ],
   "source": [
    "employment_data.loc[0, 'Subject']"
   ]
  },
  {
   "cell_type": "code",
   "execution_count": 22,
   "id": "31bbfec6-8f5f-4e3e-ae3f-702341dcf6f6",
   "metadata": {},
   "outputs": [
    {
     "data": {
      "text/plain": [
       "count    24124.000000\n",
       "mean      2017.456557\n",
       "std          3.905518\n",
       "min       2011.060000\n",
       "25%       2014.090000\n",
       "50%       2017.120000\n",
       "75%       2021.030000\n",
       "max       2024.120000\n",
       "Name: Period, dtype: float64"
      ]
     },
     "execution_count": 22,
     "metadata": {},
     "output_type": "execute_result"
    }
   ],
   "source": [
    "employment_data.Period.describe()"
   ]
  },
  {
   "cell_type": "code",
   "execution_count": 23,
   "id": "447adeeb-bb17-42e1-82e5-281c730427e8",
   "metadata": {},
   "outputs": [
    {
     "data": {
      "text/plain": [
       "np.float64(2017.4565565412038)"
      ]
     },
     "execution_count": 23,
     "metadata": {},
     "output_type": "execute_result"
    }
   ],
   "source": [
    "employment_data.Period.mean()"
   ]
  },
  {
   "cell_type": "code",
   "execution_count": 24,
   "id": "f43e4fcc-a3c0-49ac-a454-b9d10de27a3d",
   "metadata": {},
   "outputs": [
    {
     "data": {
      "text/plain": [
       "array([2011.06, 2011.09, 2011.12, 2012.03, 2012.06, 2012.09, 2012.12,\n",
       "       2013.03, 2013.06, 2013.09, 2013.12, 2014.03, 2014.06, 2014.09,\n",
       "       2014.12, 2015.03, 2015.06, 2015.09, 2015.12, 2016.03, 2016.06,\n",
       "       2016.09, 2016.12, 2017.03, 2017.06, 2017.09, 2017.12, 2018.03,\n",
       "       2018.06, 2018.09, 2018.12, 2019.03, 2019.06, 2019.09, 2019.12,\n",
       "       2020.03, 2020.06, 2020.09, 2020.12, 2021.03, 2021.06, 2021.09,\n",
       "       2021.12, 2022.03, 2022.06, 2022.09, 2022.12, 2023.03, 2023.06,\n",
       "       2023.09, 2023.12, 2024.03, 2024.06, 2024.09, 2024.12])"
      ]
     },
     "execution_count": 24,
     "metadata": {},
     "output_type": "execute_result"
    }
   ],
   "source": [
    "employment_data.Period.unique()"
   ]
  },
  {
   "cell_type": "code",
   "execution_count": 25,
   "id": "d53ee777-04f2-4dd0-b673-1a36c8012a41",
   "metadata": {},
   "outputs": [
    {
     "data": {
      "text/plain": [
       "Period\n",
       "2012.09    462\n",
       "2011.06    460\n",
       "2015.06    460\n",
       "2018.06    460\n",
       "2011.09    460\n",
       "2017.12    460\n",
       "2017.09    460\n",
       "2017.06    460\n",
       "2017.03    460\n",
       "2016.12    460\n",
       "2016.09    460\n",
       "2016.06    460\n",
       "2016.03    460\n",
       "2015.12    460\n",
       "2015.09    460\n",
       "2018.03    460\n",
       "2015.03    460\n",
       "2013.06    460\n",
       "2011.12    460\n",
       "2012.03    460\n",
       "2012.06    460\n",
       "2012.12    460\n",
       "2013.03    460\n",
       "2013.09    460\n",
       "2013.12    460\n",
       "2014.03    460\n",
       "2014.06    460\n",
       "2014.09    460\n",
       "2014.12    460\n",
       "2019.12    459\n",
       "2020.12    459\n",
       "2020.09    459\n",
       "2020.06    459\n",
       "2020.03    459\n",
       "2019.09    459\n",
       "2019.03    459\n",
       "2018.12    459\n",
       "2018.09    459\n",
       "2019.06    459\n",
       "2023.03    387\n",
       "2024.09    387\n",
       "2024.06    387\n",
       "2024.03    387\n",
       "2023.12    387\n",
       "2023.09    387\n",
       "2023.06    387\n",
       "2022.06    387\n",
       "2022.12    387\n",
       "2022.09    387\n",
       "2022.03    387\n",
       "2021.12    387\n",
       "2021.09    387\n",
       "2021.06    387\n",
       "2021.03    387\n",
       "2024.12    387\n",
       "Name: count, dtype: int64"
      ]
     },
     "execution_count": 25,
     "metadata": {},
     "output_type": "execute_result"
    }
   ],
   "source": [
    "employment_data.Period.value_counts()"
   ]
  },
  {
   "cell_type": "code",
   "execution_count": null,
   "id": "947907f4-be8a-443b-ba27-b48a7a65dd1d",
   "metadata": {},
   "outputs": [],
   "source": []
  }
 ],
 "metadata": {
  "kernelspec": {
   "display_name": "Python 3 (ipykernel)",
   "language": "python",
   "name": "python3"
  },
  "language_info": {
   "codemirror_mode": {
    "name": "ipython",
    "version": 3
   },
   "file_extension": ".py",
   "mimetype": "text/x-python",
   "name": "python",
   "nbconvert_exporter": "python",
   "pygments_lexer": "ipython3",
   "version": "3.11.9"
  }
 },
 "nbformat": 4,
 "nbformat_minor": 5
}
